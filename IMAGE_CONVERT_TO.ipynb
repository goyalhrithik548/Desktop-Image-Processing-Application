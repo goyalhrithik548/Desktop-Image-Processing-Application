{
 "cells": [
  {
   "cell_type": "code",
   "execution_count": null,
   "id": "7e1bf315",
   "metadata": {},
   "outputs": [],
   "source": [
    "import cv2\n",
    "import matplotlib.pyplot as plt\n",
    "import os\n",
    "import easygui\n",
    "import tkinter as tk\n",
    "from tkinter import *"
   ]
  },
  {
   "cell_type": "markdown",
   "id": "cbd977f7",
   "metadata": {},
   "source": [
    "# IMAGE CONVERT TO GRAY_SCALE"
   ]
  },
  {
   "cell_type": "code",
   "execution_count": null,
   "id": "deb74bd4",
   "metadata": {},
   "outputs": [],
   "source": [
    "image_convert = cv2.imread('pexels-free-jpg-206430-639024.jpg')"
   ]
  },
  {
   "cell_type": "code",
   "execution_count": null,
   "id": "08cb9e86",
   "metadata": {},
   "outputs": [],
   "source": [
    "im_gray = cv2.cvtColor(image_convert,cv2.COLOR_BGR2GRAY)\n"
   ]
  },
  {
   "cell_type": "code",
   "execution_count": null,
   "id": "1bcba7b5",
   "metadata": {},
   "outputs": [],
   "source": [
    "threash , im_black = cv2.threshold(im_gray,170,255,cv2.THRESH_BINARY)\n",
    "\n",
    "cv2.imshow('choco_muse',im_black)\n",
    "\n",
    "cv2.imwrite('gray_scale.png',im_gray)\n",
    "\n",
    "cv2.imwrite('image_black.png',im_black)\n",
    "\n",
    "cv2.waitKey(0)\n",
    "\n",
    "cv2.destroyAllWindows()"
   ]
  },
  {
   "cell_type": "markdown",
   "id": "b0feec26",
   "metadata": {},
   "source": [
    "# IMAGE CONVERT TO 6 DIFFERENT FORM"
   ]
  },
  {
   "cell_type": "code",
   "execution_count": null,
   "id": "c14783e8",
   "metadata": {},
   "outputs": [],
   "source": [
    "root = tk.Tk()\n",
    "root.geometry('700x700')\n",
    "\n",
    "root.title('Choose to Convert !')\n",
    "root.configure(background='light green')\n",
    "\n",
    "label = Label(root,background='black',font=('arial',30,'bold'))"
   ]
  },
  {
   "cell_type": "code",
   "execution_count": null,
   "id": "1221215d",
   "metadata": {},
   "outputs": [],
   "source": [
    "def u():\n",
    "    \n",
    "    img_path = easygui.fileopenbox()\n",
    "    c(img_path)\n",
    "    \n",
    "def c(img_path):\n",
    "    original_img = cv2.imread(img_path)\n",
    "    original_img = cv2.cvtColor(original_img,cv2.COLOR_BGR2RGB)\n",
    "    \n",
    "    if original_img is None:\n",
    "        \n",
    "        print('Cannot find out any image. Choose the appropriate image')\n",
    "        sys.exit()\n",
    "        \n",
    "    R_1 = cv2.resize(original_img,(930,510))\n",
    "    \n",
    "    gray_scale = cv2.cvtColor(original_img,cv2.COLOR_BGR2GRAY)\n",
    "    \n",
    "    R_2 = cv2.resize(gray_scale,(930,510))\n",
    "    \n",
    "    smooth_gray_scale = cv2.medianBlur(gray_scale,5)\n",
    "    \n",
    "    R_3 = cv2.resize(smooth_gray_scale,(930,510))\n",
    "    \n",
    "    get_edge = cv2.adaptiveThreshold(smooth_gray_scale,255,cv2.ADAPTIVE_THRESH_MEAN_C,cv2.THRESH_BINARY,9,9)\n",
    "    \n",
    "    R_4 = cv2.resize(get_edge,(930,510))\\\n",
    "    \n",
    "    color_img = cv2.bilateralFilter(original_img,9,300,300)\n",
    "    \n",
    "    R_5 = cv2.resize(color_img,(930,510))\n",
    "    \n",
    "    cartoon_img = cv2.bitwise_and(color_img,color_img,mask=get_edge)\n",
    "    \n",
    "    R_6 = cv2.resize(cartoon_img,(930,510))\n",
    "    \n",
    "    images = [R_1,R_2,R_3,R_4,R_5,R_6]\n",
    "    \n",
    "    fig ,axes = plt.subplots(3,2,figsize=(8,8),subplot_kw={'xticks':[],'yticks':[]},gridspec_kw=dict(hspace=0.1,wspace=0.1))\n",
    "    \n",
    "    for i,ax in enumerate(axes.flat):\n",
    "        \n",
    "        ax.imshow(images[i],cmap='gray')\n",
    "        \n",
    "    save_1 = Button(root,text='Save Cartoon Image',command=lambda : save(R_6,img_path),padx=30,pady=5)\n",
    "    \n",
    "    save_1.configure(background='red',foreground='yellow',font=('arial',20,'bold'))\n",
    "    \n",
    "    save_1.pack(side=TOP,pady=50)\n",
    "    \n",
    "    plt.show()"
   ]
  },
  {
   "cell_type": "code",
   "execution_count": null,
   "id": "da5cfa64",
   "metadata": {},
   "outputs": [],
   "source": [
    "def save(ReSized6,img_path):\n",
    "    \n",
    "    new_name = 'Converted Image'\n",
    "    path1 = os.path.dirname(img_path)\n",
    "    extension = os.path.splitext(img_path)[1]\n",
    "    path = os.path.join(path1,new_name+extension)\n",
    "    \n",
    "    cv2.imwrite(path,cv2.cvtColor(ReSized6,cv2.COLOR_RGB2BGR))\n",
    "    \n",
    "    j = 'Name of saved image' + new_name + 'at' + path\n",
    "    \n",
    "    tk.messagebox.showinfo(title=None,message=j)"
   ]
  },
  {
   "cell_type": "code",
   "execution_count": null,
   "id": "38027e98",
   "metadata": {},
   "outputs": [],
   "source": [
    "a = Button(root,text='Conversion of Image',command=u, padx=15, pady=10)\n",
    "a.configure(background='black',foreground='white',font=('arial',30,'bold'))\n",
    "a.pack(side=TOP,pady=50)\n",
    "\n",
    "root.mainloop()"
   ]
  },
  {
   "cell_type": "code",
   "execution_count": null,
   "id": "8dfd67e9",
   "metadata": {},
   "outputs": [],
   "source": []
  },
  {
   "cell_type": "code",
   "execution_count": null,
   "id": "613d6d59",
   "metadata": {},
   "outputs": [],
   "source": []
  }
 ],
 "metadata": {
  "kernelspec": {
   "display_name": "Python 3 (ipykernel)",
   "language": "python",
   "name": "python3"
  },
  "language_info": {
   "codemirror_mode": {
    "name": "ipython",
    "version": 3
   },
   "file_extension": ".py",
   "mimetype": "text/x-python",
   "name": "python",
   "nbconvert_exporter": "python",
   "pygments_lexer": "ipython3",
   "version": "3.11.5"
  }
 },
 "nbformat": 4,
 "nbformat_minor": 5
}
